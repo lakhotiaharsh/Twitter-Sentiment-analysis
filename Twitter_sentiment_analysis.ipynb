{
  "nbformat": 4,
  "nbformat_minor": 0,
  "metadata": {
    "colab": {
      "provenance": []
    },
    "kernelspec": {
      "name": "python3",
      "display_name": "Python 3"
    },
    "language_info": {
      "name": "python"
    }
  },
  "cells": [
    {
      "cell_type": "markdown",
      "source": [
        "## Preprocessing the data\n",
        "\n"
      ],
      "metadata": {
        "id": "RSI9xIFGoYZU"
      }
    },
    {
      "cell_type": "code",
      "execution_count": 4,
      "metadata": {
        "id": "Fdjkkg-JRdrU"
      },
      "outputs": [],
      "source": [
        "import numpy as np\n",
        "import pandas as pd\n",
        "import matplotlib.pyplot as plt"
      ]
    },
    {
      "cell_type": "code",
      "source": [
        "data=pd.read_csv('/content/sentiment_analysis.csv')\n",
        "data.drop(['id'],axis=1,inplace=True)\n",
        "data"
      ],
      "metadata": {
        "id": "6HQtwF_hTVIu"
      },
      "execution_count": null,
      "outputs": []
    },
    {
      "cell_type": "code",
      "source": [
        "import re\n",
        "import string\n",
        "data[\"tweet\"] = data[\"tweet\"].apply(lambda x: \" \".join(x.lower() for x in x.split()))"
      ],
      "metadata": {
        "id": "ejDdabQsUNL-"
      },
      "execution_count": 9,
      "outputs": []
    },
    {
      "cell_type": "code",
      "source": [
        "data[\"tweet\"] = data['tweet'].apply(lambda x: \" \".join(re.sub(r'^https?:\\/\\/.*[\\r\\n]*', '', x, flags=re.MULTILINE) for x in x.split()))"
      ],
      "metadata": {
        "id": "CtC8EaBUUTLW"
      },
      "execution_count": 10,
      "outputs": []
    },
    {
      "cell_type": "code",
      "source": [
        "def remove_punctuations(text):\n",
        "    for punctuation in string.punctuation:\n",
        "        text = text.replace(punctuation, '')\n",
        "    return text\n",
        "\n",
        "data[\"tweet\"] = data[\"tweet\"].apply(remove_punctuations)\n",
        "data[\"tweet\"].tail(10)"
      ],
      "metadata": {
        "colab": {
          "base_uri": "https://localhost:8080/",
          "height": 397
        },
        "id": "fAcW3OFtUX7u",
        "outputId": "a54e914c-b1ae-4f49-df24-6cd2f21f79ef"
      },
      "execution_count": 11,
      "outputs": [
        {
          "output_type": "execute_result",
          "data": {
            "text/plain": [
              "7910    perfect match instagood applewatch red instagr...\n",
              "7911    i am completely in love with the new iphone em...\n",
              "7912    tune in turn on drop out  gtd in one app  mobi...\n",
              "7913    ok so my galaxy crashed after one day now i ha...\n",
              "7914    gain followers rt this must follow me i follow...\n",
              "7915    live out loud lol liveoutloud selfie smile son...\n",
              "7916    we would like to wish you an amazing day make ...\n",
              "7917    helping my lovely 90 year old neighbor with he...\n",
              "7918    finally got my smart pocket wifi stay connecte...\n",
              "7919    apple barcelona apple store bcn barcelona trav...\n",
              "Name: tweet, dtype: object"
            ],
            "text/html": [
              "<div>\n",
              "<style scoped>\n",
              "    .dataframe tbody tr th:only-of-type {\n",
              "        vertical-align: middle;\n",
              "    }\n",
              "\n",
              "    .dataframe tbody tr th {\n",
              "        vertical-align: top;\n",
              "    }\n",
              "\n",
              "    .dataframe thead th {\n",
              "        text-align: right;\n",
              "    }\n",
              "</style>\n",
              "<table border=\"1\" class=\"dataframe\">\n",
              "  <thead>\n",
              "    <tr style=\"text-align: right;\">\n",
              "      <th></th>\n",
              "      <th>tweet</th>\n",
              "    </tr>\n",
              "  </thead>\n",
              "  <tbody>\n",
              "    <tr>\n",
              "      <th>7910</th>\n",
              "      <td>perfect match instagood applewatch red instagr...</td>\n",
              "    </tr>\n",
              "    <tr>\n",
              "      <th>7911</th>\n",
              "      <td>i am completely in love with the new iphone em...</td>\n",
              "    </tr>\n",
              "    <tr>\n",
              "      <th>7912</th>\n",
              "      <td>tune in turn on drop out  gtd in one app  mobi...</td>\n",
              "    </tr>\n",
              "    <tr>\n",
              "      <th>7913</th>\n",
              "      <td>ok so my galaxy crashed after one day now i ha...</td>\n",
              "    </tr>\n",
              "    <tr>\n",
              "      <th>7914</th>\n",
              "      <td>gain followers rt this must follow me i follow...</td>\n",
              "    </tr>\n",
              "    <tr>\n",
              "      <th>7915</th>\n",
              "      <td>live out loud lol liveoutloud selfie smile son...</td>\n",
              "    </tr>\n",
              "    <tr>\n",
              "      <th>7916</th>\n",
              "      <td>we would like to wish you an amazing day make ...</td>\n",
              "    </tr>\n",
              "    <tr>\n",
              "      <th>7917</th>\n",
              "      <td>helping my lovely 90 year old neighbor with he...</td>\n",
              "    </tr>\n",
              "    <tr>\n",
              "      <th>7918</th>\n",
              "      <td>finally got my smart pocket wifi stay connecte...</td>\n",
              "    </tr>\n",
              "    <tr>\n",
              "      <th>7919</th>\n",
              "      <td>apple barcelona apple store bcn barcelona trav...</td>\n",
              "    </tr>\n",
              "  </tbody>\n",
              "</table>\n",
              "</div><br><label><b>dtype:</b> object</label>"
            ]
          },
          "metadata": {},
          "execution_count": 11
        }
      ]
    },
    {
      "cell_type": "code",
      "source": [
        "import nltk\n",
        "nltk.download('stopwords', download_dir='../static/model')"
      ],
      "metadata": {
        "colab": {
          "base_uri": "https://localhost:8080/"
        },
        "id": "zGKAIIcEUmc-",
        "outputId": "8b43d450-63e9-4178-ddd9-4344a2e5fe3c"
      },
      "execution_count": 12,
      "outputs": [
        {
          "output_type": "stream",
          "name": "stderr",
          "text": [
            "[nltk_data] Downloading package stopwords to ../static/model...\n",
            "[nltk_data]   Unzipping corpora/stopwords.zip.\n"
          ]
        },
        {
          "output_type": "execute_result",
          "data": {
            "text/plain": [
              "True"
            ]
          },
          "metadata": {},
          "execution_count": 12
        }
      ]
    },
    {
      "cell_type": "code",
      "source": [
        "with open('../static/model/corpora/stopwords/english', 'r') as file:\n",
        "    sw = file.read()\n",
        "data[\"tweet\"] = data[\"tweet\"].apply(lambda x: \" \".join(x for x in x.split() if x not in sw))\n",
        "data[\"tweet\"].tail()"
      ],
      "metadata": {
        "colab": {
          "base_uri": "https://localhost:8080/",
          "height": 241
        },
        "id": "hBDP9XygUtw2",
        "outputId": "3f79f2c7-4829-41a6-9987-93cf068e3316"
      },
      "execution_count": 13,
      "outputs": [
        {
          "output_type": "execute_result",
          "data": {
            "text/plain": [
              "7915    live loud lol liveoutloud selfie smile sony mu...\n",
              "7916    like wish amazing day make every minute count ...\n",
              "7917    helping lovely 90 year old neighbor ipad morni...\n",
              "7918    finally got smart pocket wifi stay connected a...\n",
              "7919    apple barcelona apple store bcn barcelona trav...\n",
              "Name: tweet, dtype: object"
            ],
            "text/html": [
              "<div>\n",
              "<style scoped>\n",
              "    .dataframe tbody tr th:only-of-type {\n",
              "        vertical-align: middle;\n",
              "    }\n",
              "\n",
              "    .dataframe tbody tr th {\n",
              "        vertical-align: top;\n",
              "    }\n",
              "\n",
              "    .dataframe thead th {\n",
              "        text-align: right;\n",
              "    }\n",
              "</style>\n",
              "<table border=\"1\" class=\"dataframe\">\n",
              "  <thead>\n",
              "    <tr style=\"text-align: right;\">\n",
              "      <th></th>\n",
              "      <th>tweet</th>\n",
              "    </tr>\n",
              "  </thead>\n",
              "  <tbody>\n",
              "    <tr>\n",
              "      <th>7915</th>\n",
              "      <td>live loud lol liveoutloud selfie smile sony mu...</td>\n",
              "    </tr>\n",
              "    <tr>\n",
              "      <th>7916</th>\n",
              "      <td>like wish amazing day make every minute count ...</td>\n",
              "    </tr>\n",
              "    <tr>\n",
              "      <th>7917</th>\n",
              "      <td>helping lovely 90 year old neighbor ipad morni...</td>\n",
              "    </tr>\n",
              "    <tr>\n",
              "      <th>7918</th>\n",
              "      <td>finally got smart pocket wifi stay connected a...</td>\n",
              "    </tr>\n",
              "    <tr>\n",
              "      <th>7919</th>\n",
              "      <td>apple barcelona apple store bcn barcelona trav...</td>\n",
              "    </tr>\n",
              "  </tbody>\n",
              "</table>\n",
              "</div><br><label><b>dtype:</b> object</label>"
            ]
          },
          "metadata": {},
          "execution_count": 13
        }
      ]
    },
    {
      "cell_type": "code",
      "source": [
        "from nltk.stem import PorterStemmer\n",
        "ps = PorterStemmer()\n",
        "data[\"tweet\"] = data[\"tweet\"].apply(lambda x: \" \".join(ps.stem(x) for x in x.split()))\n",
        "data[\"tweet\"].head()"
      ],
      "metadata": {
        "colab": {
          "base_uri": "https://localhost:8080/",
          "height": 241
        },
        "id": "sJGu8PV4VBhn",
        "outputId": "176fde96-bf3f-4a24-ae72-2c378032740e"
      },
      "execution_count": 14,
      "outputs": [
        {
          "output_type": "execute_result",
          "data": {
            "text/plain": [
              "0    fingerprint pregnanc test android app beauti c...\n",
              "1    final transpar silicon case thank uncl yay son...\n",
              "2    love go talk makememori unplug relax iphon sma...\n",
              "3    wire know georg made way iphon cute daventri home\n",
              "4    amaz servic appl wont even talk question unles...\n",
              "Name: tweet, dtype: object"
            ],
            "text/html": [
              "<div>\n",
              "<style scoped>\n",
              "    .dataframe tbody tr th:only-of-type {\n",
              "        vertical-align: middle;\n",
              "    }\n",
              "\n",
              "    .dataframe tbody tr th {\n",
              "        vertical-align: top;\n",
              "    }\n",
              "\n",
              "    .dataframe thead th {\n",
              "        text-align: right;\n",
              "    }\n",
              "</style>\n",
              "<table border=\"1\" class=\"dataframe\">\n",
              "  <thead>\n",
              "    <tr style=\"text-align: right;\">\n",
              "      <th></th>\n",
              "      <th>tweet</th>\n",
              "    </tr>\n",
              "  </thead>\n",
              "  <tbody>\n",
              "    <tr>\n",
              "      <th>0</th>\n",
              "      <td>fingerprint pregnanc test android app beauti c...</td>\n",
              "    </tr>\n",
              "    <tr>\n",
              "      <th>1</th>\n",
              "      <td>final transpar silicon case thank uncl yay son...</td>\n",
              "    </tr>\n",
              "    <tr>\n",
              "      <th>2</th>\n",
              "      <td>love go talk makememori unplug relax iphon sma...</td>\n",
              "    </tr>\n",
              "    <tr>\n",
              "      <th>3</th>\n",
              "      <td>wire know georg made way iphon cute daventri home</td>\n",
              "    </tr>\n",
              "    <tr>\n",
              "      <th>4</th>\n",
              "      <td>amaz servic appl wont even talk question unles...</td>\n",
              "    </tr>\n",
              "  </tbody>\n",
              "</table>\n",
              "</div><br><label><b>dtype:</b> object</label>"
            ]
          },
          "metadata": {},
          "execution_count": 14
        }
      ]
    },
    {
      "cell_type": "markdown",
      "source": [
        "## Train test split followed by conversion of text data"
      ],
      "metadata": {
        "id": "pNoZ33IKovWx"
      }
    },
    {
      "cell_type": "code",
      "source": [
        "X = data['tweet']\n",
        "y = data['label']\n",
        "from sklearn.model_selection import train_test_split\n",
        "X_train, X_test, y_train, y_test = train_test_split(X, y, test_size=0.2, stratify=y)"
      ],
      "metadata": {
        "id": "BUmNB2vWVSj2"
      },
      "execution_count": 39,
      "outputs": []
    },
    {
      "cell_type": "code",
      "source": [
        "from sklearn.feature_extraction.text import TfidfVectorizer\n",
        "vectoriser=TfidfVectorizer()\n",
        "X_train_lower=vectoriser.fit_transform(X_train_lower)\n",
        "X_test=vectoriser.transform(X_test)"
      ],
      "metadata": {
        "id": "buxcox7UVXj-"
      },
      "execution_count": 32,
      "outputs": []
    },
    {
      "cell_type": "code",
      "source": [
        "from sklearn.linear_model import LogisticRegression\n",
        "from sklearn.metrics import accuracy_score"
      ],
      "metadata": {
        "id": "DAM6axq7jdqM"
      },
      "execution_count": 19,
      "outputs": []
    },
    {
      "cell_type": "code",
      "source": [
        "from collections import Counter\n",
        "vocab = Counter()\n",
        "for sentence in data['tweet']:\n",
        "    vocab.update(sentence.split())\n",
        "tokens = [key for key in vocab if vocab[key] > 10]"
      ],
      "metadata": {
        "id": "h6rXDpU_llAr"
      },
      "execution_count": 36,
      "outputs": []
    },
    {
      "cell_type": "code",
      "source": [
        "def save_vocabulary(lines, filename):\n",
        "    data = '\\n'.join(lines)\n",
        "    file = open(filename, 'w', encoding=\"utf-8\")\n",
        "    file.write(data)\n",
        "    file.close()\n",
        "\n",
        "save_vocabulary(tokens, '../static/model/vocabulary.txt')"
      ],
      "metadata": {
        "id": "qQWAj8HClbk_"
      },
      "execution_count": 37,
      "outputs": []
    },
    {
      "cell_type": "code",
      "source": [
        "def vectorizer(ds, vocabulary):\n",
        "    vectorized_lst = []\n",
        "\n",
        "    for sentence in ds:\n",
        "        sentence_lst = np.zeros(len(vocabulary))\n",
        "\n",
        "        for i in range(len(vocabulary)):\n",
        "            if vocabulary[i] in sentence.split():\n",
        "                sentence_lst[i] = 1\n",
        "\n",
        "        vectorized_lst.append(sentence_lst)\n",
        "\n",
        "    vectorized_lst_new = np.asarray(vectorized_lst, dtype=np.float32)\n",
        "\n",
        "    return vectorized_lst_new\n",
        "vectorized_x_train = vectorizer(X_train, tokens)\n",
        "vectorized_x_test = vectorizer(X_test, tokens)"
      ],
      "metadata": {
        "colab": {
          "base_uri": "https://localhost:8080/"
        },
        "id": "n-S9s97FlPhU",
        "outputId": "4f74cd5f-c9cc-4cdf-e2f6-746d53f157f9"
      },
      "execution_count": 40,
      "outputs": [
        {
          "output_type": "execute_result",
          "data": {
            "text/plain": [
              "array([[0., 0., 0., ..., 0., 0., 0.],\n",
              "       [0., 0., 0., ..., 0., 0., 0.],\n",
              "       [0., 0., 0., ..., 0., 0., 0.],\n",
              "       ...,\n",
              "       [0., 0., 0., ..., 0., 0., 0.],\n",
              "       [0., 0., 0., ..., 0., 0., 0.],\n",
              "       [0., 0., 0., ..., 0., 0., 0.]], dtype=float32)"
            ]
          },
          "metadata": {},
          "execution_count": 40
        }
      ]
    },
    {
      "cell_type": "markdown",
      "source": [
        "## Oversampling"
      ],
      "metadata": {
        "id": "wmIlYi3SpCNp"
      }
    },
    {
      "cell_type": "code",
      "source": [
        "from imblearn.over_sampling import SMOTE\n",
        "smote = SMOTE()\n",
        "vectorized_x_train_smote, y_train_smote = smote.fit_resample(vectorized_x_train, y_train)\n",
        "print(vectorized_x_train_smote.shape, y_train_smote.shape)"
      ],
      "metadata": {
        "colab": {
          "base_uri": "https://localhost:8080/"
        },
        "id": "rGHwQ5oEl7nO",
        "outputId": "65cb49c0-721f-40b5-991d-548d19386ca9"
      },
      "execution_count": 41,
      "outputs": [
        {
          "output_type": "stream",
          "name": "stderr",
          "text": [
            "/usr/local/lib/python3.10/dist-packages/sklearn/base.py:474: FutureWarning: `BaseEstimator._validate_data` is deprecated in 1.6 and will be removed in 1.7. Use `sklearn.utils.validation.validate_data` instead. This function becomes public and is part of the scikit-learn developer API.\n",
            "  warnings.warn(\n",
            "/usr/local/lib/python3.10/dist-packages/sklearn/utils/_tags.py:354: FutureWarning: The SMOTE or classes from which it inherits use `_get_tags` and `_more_tags`. Please define the `__sklearn_tags__` method, or inherit from `sklearn.base.BaseEstimator` and/or other appropriate mixins such as `sklearn.base.TransformerMixin`, `sklearn.base.ClassifierMixin`, `sklearn.base.RegressorMixin`, and `sklearn.base.OutlierMixin`. From scikit-learn 1.7, not defining `__sklearn_tags__` will raise an error.\n",
            "  warnings.warn(\n"
          ]
        },
        {
          "output_type": "stream",
          "name": "stdout",
          "text": [
            "(9430, 1160) (9430,)\n"
          ]
        }
      ]
    },
    {
      "cell_type": "markdown",
      "source": [
        "## Model Testing"
      ],
      "metadata": {
        "id": "Lo_MWFO3pKF4"
      }
    },
    {
      "cell_type": "code",
      "source": [
        "from sklearn.metrics import accuracy_score, precision_score, recall_score\n",
        "\n",
        "def training_scores(y_act, y_pred):\n",
        "    acc = round(accuracy_score(y_act, y_pred), 3)\n",
        "    pr = round(precision_score(y_act, y_pred), 3)\n",
        "    rec = round(recall_score(y_act, y_pred), 3)\n",
        "    print(f'Training Scores:\\n\\tAccuracy = {acc}\\n\\tPrecision = {pr}\\n\\tRecall = {rec}\\n')\n",
        "\n",
        "def validation_scores(y_act, y_pred):\n",
        "    acc = round(accuracy_score(y_act, y_pred), 3)\n",
        "    pr = round(precision_score(y_act, y_pred), 3)\n",
        "    rec = round(recall_score(y_act, y_pred), 3)\n",
        "    print(f'Testing Scores:\\n\\tAccuracy = {acc}\\n\\tPrecision = {pr}\\n\\tRecall = {rec}\\n')"
      ],
      "metadata": {
        "id": "U3OmDCLvmPkq"
      },
      "execution_count": 44,
      "outputs": []
    },
    {
      "cell_type": "code",
      "source": [
        "lr = LogisticRegression()\n",
        "lr.fit(vectorized_x_train_smote, y_train_smote)\n",
        "\n",
        "y_train_pred = lr.predict(vectorized_x_train_smote)\n",
        "\n",
        "y_test_pred = lr.predict(vectorized_x_test)\n",
        "\n",
        "training_scores(y_train_smote, y_train_pred)\n",
        "\n",
        "validation_scores(y_test, y_test_pred)"
      ],
      "metadata": {
        "colab": {
          "base_uri": "https://localhost:8080/"
        },
        "id": "crxA-9V2mayA",
        "outputId": "2ea8c4e1-e4e1-45e8-c1d7-59fadb3f74f0"
      },
      "execution_count": 45,
      "outputs": [
        {
          "output_type": "stream",
          "name": "stdout",
          "text": [
            "Training Scores:\n",
            "\tAccuracy = 0.94\n",
            "\tPrecision = 0.914\n",
            "\tRecall = 0.971\n",
            "\n",
            "Testing Scores:\n",
            "\tAccuracy = 0.873\n",
            "\tPrecision = 0.709\n",
            "\tRecall = 0.854\n",
            "\n"
          ]
        }
      ]
    },
    {
      "cell_type": "markdown",
      "source": [
        "## Saving model"
      ],
      "metadata": {
        "id": "NXwBQk4UpSw4"
      }
    },
    {
      "cell_type": "code",
      "source": [
        "import pickle\n",
        "\n",
        "with open('/content/model.pickle', 'wb') as file:\n",
        "    pickle.dump(lr, file)"
      ],
      "metadata": {
        "id": "R7IFaJcinCAf"
      },
      "execution_count": 47,
      "outputs": []
    }
  ]
}